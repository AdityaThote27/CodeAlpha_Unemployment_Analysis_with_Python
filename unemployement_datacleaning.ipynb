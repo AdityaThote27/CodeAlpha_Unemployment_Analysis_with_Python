{
 "cells": [
  {
   "cell_type": "code",
   "execution_count": 1,
   "id": "9f929537-ebc2-4b22-849f-0a5f9638ef78",
   "metadata": {},
   "outputs": [
    {
     "name": "stdout",
     "output_type": "stream",
     "text": [
      "           Region         Date  Frequency   Estimated Unemployment Rate (%)  \\\n",
      "0  Andhra Pradesh   31-05-2019    Monthly                              3.65   \n",
      "1  Andhra Pradesh   30-06-2019    Monthly                              3.05   \n",
      "2  Andhra Pradesh   31-07-2019    Monthly                              3.75   \n",
      "3  Andhra Pradesh   31-08-2019    Monthly                              3.32   \n",
      "4  Andhra Pradesh   30-09-2019    Monthly                              5.17   \n",
      "\n",
      "    Estimated Employed   Estimated Labour Participation Rate (%)   Area  \n",
      "0           11999139.0                                     43.24  Rural  \n",
      "1           11755881.0                                     42.05  Rural  \n",
      "2           12086707.0                                     43.50  Rural  \n",
      "3           12285693.0                                     43.97  Rural  \n",
      "4           12256762.0                                     44.68  Rural  \n",
      "<class 'pandas.core.frame.DataFrame'>\n",
      "RangeIndex: 768 entries, 0 to 767\n",
      "Data columns (total 7 columns):\n",
      " #   Column                                    Non-Null Count  Dtype  \n",
      "---  ------                                    --------------  -----  \n",
      " 0   Region                                    740 non-null    object \n",
      " 1    Date                                     740 non-null    object \n",
      " 2    Frequency                                740 non-null    object \n",
      " 3    Estimated Unemployment Rate (%)          740 non-null    float64\n",
      " 4    Estimated Employed                       740 non-null    float64\n",
      " 5    Estimated Labour Participation Rate (%)  740 non-null    float64\n",
      " 6   Area                                      740 non-null    object \n",
      "dtypes: float64(3), object(4)\n",
      "memory usage: 42.1+ KB\n",
      "None\n",
      "Region                                      28\n",
      " Date                                       28\n",
      " Frequency                                  28\n",
      " Estimated Unemployment Rate (%)            28\n",
      " Estimated Employed                         28\n",
      " Estimated Labour Participation Rate (%)    28\n",
      "Area                                        28\n",
      "dtype: int64\n",
      "       Estimated Unemployment Rate (%)  Estimated Employed  \\\n",
      "count                       740.000000        7.400000e+02   \n",
      "mean                         11.787946        7.204460e+06   \n",
      "std                          10.721298        8.087988e+06   \n",
      "min                           0.000000        4.942000e+04   \n",
      "25%                           4.657500        1.190404e+06   \n",
      "50%                           8.350000        4.744178e+06   \n",
      "75%                          15.887500        1.127549e+07   \n",
      "max                          76.740000        4.577751e+07   \n",
      "\n",
      "       Estimated Labour Participation Rate (%)  \n",
      "count                               740.000000  \n",
      "mean                                 42.630122  \n",
      "std                                   8.111094  \n",
      "min                                  13.330000  \n",
      "25%                                  38.062500  \n",
      "50%                                  41.160000  \n",
      "75%                                  45.505000  \n",
      "max                                  72.570000  \n",
      "Index(['Region', ' Date', ' Frequency', ' Estimated Unemployment Rate (%)',\n",
      "       ' Estimated Employed', ' Estimated Labour Participation Rate (%)',\n",
      "       'Area'],\n",
      "      dtype='object')\n"
     ]
    }
   ],
   "source": [
    "import pandas as pd\n",
    "\n",
    "# Load the dataset\n",
    "file_path = r\"C:\\Users\\adity\\OneDrive\\Desktop\\Unemployment_analysis\\Unemployment in India.csv\"\n",
    "data = pd.read_csv(file_path)\n",
    "\n",
    "# Display the first few rows of the dataset\n",
    "print(data.head())\n",
    "\n",
    "# Display dataset information\n",
    "print(data.info())\n",
    "\n",
    "# Check for missing values\n",
    "print(data.isnull().sum())\n",
    "\n",
    "# Basic statistics of numerical columns\n",
    "print(data.describe())\n",
    "\n",
    "# Check the columns\n",
    "print(data.columns)\n"
   ]
  },
  {
   "cell_type": "code",
   "execution_count": 3,
   "id": "eaea7fc8-5f17-4fc0-9193-68e5b0b17742",
   "metadata": {},
   "outputs": [],
   "source": [
    "# Save the processed dataset for Power BI\n",
    "data.to_csv(r\"C:\\Users\\adity\\OneDrive\\Desktop\\Unemployment_analysis\\Unemployment in India.csv\", index=False)\n"
   ]
  },
  {
   "cell_type": "code",
   "execution_count": 5,
   "id": "453a2382-d4e2-4b41-b4a1-3a324e3b1025",
   "metadata": {},
   "outputs": [],
   "source": [
    "# Save the processed dataset for Power BI\n",
    "data.to_csv(r\"C:\\Users\\adity\\OneDrive\\Desktop\\Unemployment_analysis\\Unemployment in India.csv\", index=False)"
   ]
  },
  {
   "cell_type": "code",
   "execution_count": 9,
   "id": "2bed88a5-8820-436b-8dc7-89e6d0a808cd",
   "metadata": {},
   "outputs": [
    {
     "name": "stdout",
     "output_type": "stream",
     "text": [
      "Cleaned dataset saved to: C:\\Users\\adity\\OneDrive\\Desktop\\Unemployment_analysis\\Unemployment in India.csv\n"
     ]
    }
   ],
   "source": [
    "# Strip leading/trailing spaces from all string data\n",
    "for col in data.select_dtypes(include=['object']).columns:\n",
    "    data[col] = data[col].map(lambda x: x.strip() if isinstance(x, str) else x)\n",
    "\n",
    "# Handle missing values (example: dropping rows with NA)\n",
    "data = data.dropna()\n",
    "\n",
    "# Convert the Date column to datetime\n",
    "data['Date'] = pd.to_datetime(data['Date'], format='%d-%m-%Y')\n",
    "\n",
    "# Save the cleaned dataset\n",
    "cleaned_file_path = r\"C:\\Users\\adity\\OneDrive\\Desktop\\Unemployment_analysis\\Unemployment in India.csv\"\n",
    "data.to_csv(cleaned_file_path, index=False)\n",
    "\n",
    "print(f\"Cleaned dataset saved to: {cleaned_file_path}\")\n"
   ]
  },
  {
   "cell_type": "code",
   "execution_count": null,
   "id": "80147615-daca-4488-8494-98e8184664b2",
   "metadata": {},
   "outputs": [],
   "source": []
  }
 ],
 "metadata": {
  "kernelspec": {
   "display_name": "Python 3 (ipykernel)",
   "language": "python",
   "name": "python3"
  },
  "language_info": {
   "codemirror_mode": {
    "name": "ipython",
    "version": 3
   },
   "file_extension": ".py",
   "mimetype": "text/x-python",
   "name": "python",
   "nbconvert_exporter": "python",
   "pygments_lexer": "ipython3",
   "version": "3.12.7"
  }
 },
 "nbformat": 4,
 "nbformat_minor": 5
}
